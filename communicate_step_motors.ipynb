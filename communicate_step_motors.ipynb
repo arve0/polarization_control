{
 "cells": [
  {
   "cell_type": "code",
   "execution_count": 62,
   "metadata": {
    "collapsed": false
   },
   "outputs": [],
   "source": [
    "import usb"
   ]
  },
  {
   "cell_type": "code",
   "execution_count": 63,
   "metadata": {
    "collapsed": false
   },
   "outputs": [
    {
     "data": {
      "text/plain": [
       "<DEVICE ID 03f0:311d on Bus 029 Address 004>"
      ]
     },
     "execution_count": 63,
     "metadata": {},
     "output_type": "execute_result"
    }
   ],
   "source": [
    "usb.core.find()"
   ]
  },
  {
   "cell_type": "code",
   "execution_count": 50,
   "metadata": {
    "collapsed": true
   },
   "outputs": [],
   "source": [
    "dev = usb.core.find(idVendor=0x03f0, idProduct=0x311d)"
   ]
  },
  {
   "cell_type": "code",
   "execution_count": 4,
   "metadata": {
    "collapsed": false
   },
   "outputs": [],
   "source": [
    "import struct"
   ]
  },
  {
   "cell_type": "code",
   "execution_count": 39,
   "metadata": {
    "collapsed": false
   },
   "outputs": [],
   "source": [
    "msg = 0x3039 # 12345, 0x39 0x30 in intel little endian\n",
    "param1 = 0x03\n",
    "param2 = 0x04\n",
    "dest = 0x50 # generic USB unit\n",
    "source = 0x01 # host\n",
    "packet = struct.pack('<HBBBB', msg, param1, param2, dest, source) # pack bytes, first argument to left, 6 bytes"
   ]
  },
  {
   "cell_type": "code",
   "execution_count": 42,
   "metadata": {
    "collapsed": false
   },
   "outputs": [
    {
     "data": {
      "text/plain": [
       "['0x39', '0x30', '0x3', '0x4', '0x50', '0x1']"
      ]
     },
     "execution_count": 42,
     "metadata": {},
     "output_type": "execute_result"
    }
   ],
   "source": [
    "[hex(c) for c in packet]"
   ]
  },
  {
   "cell_type": "code",
   "execution_count": 43,
   "metadata": {
    "collapsed": true
   },
   "outputs": [],
   "source": [
    "# flash led\n",
    "msg = 0x0223\n",
    "param1 = 0\n",
    "param2 = 0\n",
    "packet = struct.pack('<HBBBB', msg, param1, param2, dest, source)\n",
    "[hex(c) for c in packet]"
   ]
  },
  {
   "cell_type": "code",
   "execution_count": null,
   "metadata": {
    "collapsed": true
   },
   "outputs": [],
   "source": [
    "if dev is None:\n",
    "    raise ValueError('Device not found')\n",
    "\n",
    "dev.set_configuration()\n",
    "\n",
    "# get an endpoint instance\n",
    "cfg = dev.get_active_configuration()\n",
    "intf = cfg[(0,0)]\n",
    "\n",
    "ep = usb.util.find_descriptor(\n",
    "    intf,\n",
    "    # match the first OUT endpoint\n",
    "    custom_match = \\\n",
    "    lambda e: \\\n",
    "        usb.util.endpoint_direction(e.bEndpointAddress) == \\\n",
    "        usb.util.ENDPOINT_OUT)\n",
    "\n",
    "assert ep is not None\n",
    "\n",
    "# write the data\n",
    "ep.write(packet)\n",
    "\n",
    "# or\n",
    "dev.write(1, packet) # given we know enpoint adress is 1"
   ]
  },
  {
   "cell_type": "code",
   "execution_count": 52,
   "metadata": {
    "collapsed": false
   },
   "outputs": [
    {
     "name": "stdout",
     "output_type": "stream",
     "text": [
      "Help on method write in module usb.core:\n",
      "\n",
      "write(endpoint, data, timeout=None) method of usb.core.Device instance\n",
      "    Write data to the endpoint.\n",
      "    \n",
      "    This method is used to send data to the device. The endpoint parameter\n",
      "    corresponds to the bEndpointAddress member whose endpoint you want to\n",
      "    communicate with.\n",
      "    \n",
      "    The data parameter should be a sequence like type convertible to\n",
      "    the array type (see array module).\n",
      "    \n",
      "    The timeout is specified in miliseconds.\n",
      "    \n",
      "    The method returns the number of bytes written.\n",
      "\n"
     ]
    }
   ],
   "source": [
    "help(dev.write)"
   ]
  },
  {
   "cell_type": "code",
   "execution_count": null,
   "metadata": {
    "collapsed": true
   },
   "outputs": [],
   "source": [
    "# MGMSG_HW_REQ_INFO\n",
    "msg = 0x0005\n",
    "packet = struct.pack('<HBBBB', msg, param1, param2, dest, source)\n",
    "ep.write(packet)"
   ]
  },
  {
   "cell_type": "code",
   "execution_count": null,
   "metadata": {
    "collapsed": true
   },
   "outputs": [],
   "source": [
    "# MGMSG_HW_GET_INFO\n",
    "msg = 0x0006\n",
    "packet = struct.pack('<HBBBB', msg, param1, param2, dest, source)\n",
    "ep.write(packet)\n",
    "ep.read(90)"
   ]
  },
  {
   "cell_type": "code",
   "execution_count": null,
   "metadata": {
    "collapsed": true
   },
   "outputs": [],
   "source": [
    "help(ep.read)"
   ]
  },
  {
   "cell_type": "code",
   "execution_count": 54,
   "metadata": {
    "collapsed": false
   },
   "outputs": [
    {
     "name": "stdout",
     "output_type": "stream",
     "text": [
      "Help on method read in module usb.core:\n",
      "\n",
      "read(endpoint, size_or_buffer, timeout=None) method of usb.core.Device instance\n",
      "    Read data from the endpoint.\n",
      "    \n",
      "    This method is used to receive data from the device. The endpoint\n",
      "    parameter corresponds to the bEndpointAddress member whose endpoint\n",
      "    you want to communicate with. The size_or_buffer parameter either\n",
      "    tells how many bytes you want to read or supplies the buffer to\n",
      "    receive the data (it *must* be an object of the type array).\n",
      "    \n",
      "    The timeout is specified in miliseconds.\n",
      "    \n",
      "    If the size_or_buffer parameter is the number of bytes to read, the\n",
      "    method returns an array object with the data read. If the\n",
      "    size_or_buffer parameter is an array object, it returns the number\n",
      "    of bytes actually read.\n",
      "\n"
     ]
    }
   ],
   "source": [
    "help(dev.read)"
   ]
  }
 ],
 "metadata": {
  "kernelspec": {
   "display_name": "Python 3",
   "language": "python",
   "name": "python3"
  },
  "language_info": {
   "codemirror_mode": {
    "name": "ipython",
    "version": 3
   },
   "file_extension": ".py",
   "mimetype": "text/x-python",
   "name": "python",
   "nbconvert_exporter": "python",
   "pygments_lexer": "ipython3",
   "version": "3.4.3"
  }
 },
 "nbformat": 4,
 "nbformat_minor": 0
}
